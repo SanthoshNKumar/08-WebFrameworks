{
 "cells": [
  {
   "cell_type": "code",
   "execution_count": null,
   "metadata": {},
   "outputs": [],
   "source": [
    "'''\n",
    "Django : Django is a free and open source web application framework, written in Python.\n",
    "\n",
    "Architectural pattern does Django follow :\n",
    "  - Django follows Model-View-Template (MVT) architectural pattern\n",
    "\n",
    "Model: It is the data access layer. \n",
    "View: It is the business logic layer\n",
    "Template: It is a presentation layer. \n",
    "\n",
    "Advantages of Django?\n",
    "  - Django is a Python's framework which is easy to learn.\n",
    "  - It is clear and readable.\n",
    "  - It is versatile\n",
    "  - It is fast to write.\n",
    "  - No loopholes in design.\n",
    "  - It is secure.\n",
    "  - It is scalable.\n",
    "\n",
    "\n",
    "Check for the version of Django\n",
    "  - python -m django –version"
   ]
  }
 ],
 "metadata": {
  "kernelspec": {
   "display_name": "Python 3",
   "language": "python",
   "name": "python3"
  },
  "language_info": {
   "codemirror_mode": {
    "name": "ipython",
    "version": 3
   },
   "file_extension": ".py",
   "mimetype": "text/x-python",
   "name": "python",
   "nbconvert_exporter": "python",
   "pygments_lexer": "ipython3",
   "version": "3.7.4"
  }
 },
 "nbformat": 4,
 "nbformat_minor": 2
}
